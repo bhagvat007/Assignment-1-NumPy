{
 "cells": [
  {
   "cell_type": "markdown",
   "id": "7dabed72",
   "metadata": {},
   "source": [
    "# 1.Create a null vector of size 10 but the fifth value which is 1"
   ]
  },
  {
   "cell_type": "code",
   "execution_count": 1,
   "id": "567ddf0e",
   "metadata": {},
   "outputs": [],
   "source": [
    "import numpy as np"
   ]
  },
  {
   "cell_type": "code",
   "execution_count": 2,
   "id": "557f1159",
   "metadata": {},
   "outputs": [
    {
     "data": {
      "text/plain": [
       "array([0, 0, 0, 0, 1, 0, 0, 0, 0, 0])"
      ]
     },
     "execution_count": 2,
     "metadata": {},
     "output_type": "execute_result"
    }
   ],
   "source": [
    "(np.arange(10) == 4) .astype(int)"
   ]
  },
  {
   "cell_type": "markdown",
   "id": "ffe84e1c",
   "metadata": {},
   "source": [
    "# 2.Create a vector with values ranging from 10 to 49."
   ]
  },
  {
   "cell_type": "code",
   "execution_count": 3,
   "id": "b2fdd9a9",
   "metadata": {},
   "outputs": [
    {
     "data": {
      "text/plain": [
       "array([10, 11, 12, 13, 14, 15, 16, 17, 18, 19, 20, 21, 22, 23, 24, 25, 26,\n",
       "       27, 28, 29, 30, 31, 32, 33, 34, 35, 36, 37, 38, 39, 40, 41, 42, 43,\n",
       "       44, 45, 46, 47, 48])"
      ]
     },
     "execution_count": 3,
     "metadata": {},
     "output_type": "execute_result"
    }
   ],
   "source": [
    "Range=np.arange(10,49)\n",
    "Range"
   ]
  },
  {
   "cell_type": "markdown",
   "id": "c83000f9",
   "metadata": {},
   "source": [
    "# 3.Create a 3x3 matrix with values ranging from 0 to 8"
   ]
  },
  {
   "cell_type": "code",
   "execution_count": 4,
   "id": "7312aad3",
   "metadata": {},
   "outputs": [
    {
     "data": {
      "text/plain": [
       "array([[0, 2, 2],\n",
       "       [7, 1, 6],\n",
       "       [0, 0, 2]])"
      ]
     },
     "execution_count": 4,
     "metadata": {},
     "output_type": "execute_result"
    }
   ],
   "source": [
    "a = np.random.randint(0,8,(3,3))\n",
    "a"
   ]
  },
  {
   "cell_type": "markdown",
   "id": "88fa56bf",
   "metadata": {},
   "source": [
    "# 4.Find indices of non-zero elements from [1,2,0,0,4,0]"
   ]
  },
  {
   "cell_type": "code",
   "execution_count": 5,
   "id": "20e8107a",
   "metadata": {},
   "outputs": [
    {
     "data": {
      "text/plain": [
       "(array([0, 1, 4], dtype=int64),)"
      ]
     },
     "execution_count": 5,
     "metadata": {},
     "output_type": "execute_result"
    }
   ],
   "source": [
    "arr = np.array([1,2,0,0,4,0])\n",
    "np.nonzero(arr)"
   ]
  },
  {
   "cell_type": "markdown",
   "id": "8e50b3f2",
   "metadata": {},
   "source": [
    "# 5.Create a 10x10 array with random values and find the minimum and maximum values"
   ]
  },
  {
   "cell_type": "code",
   "execution_count": 6,
   "id": "f0c50b5b",
   "metadata": {},
   "outputs": [
    {
     "name": "stdout",
     "output_type": "stream",
     "text": [
      "[[0.33560178 0.89702466 0.07931948 0.10682126 0.24053304 0.29072119\n",
      "  0.49340205 0.47663031 0.31304626 0.04418747]\n",
      " [0.50086156 0.06870076 0.16427688 0.84193369 0.98618741 0.86122802\n",
      "  0.95352859 0.56392433 0.34409612 0.2469524 ]\n",
      " [0.49359059 0.26969866 0.28269634 0.3798139  0.09608425 0.53354848\n",
      "  0.14649747 0.19392938 0.51648037 0.42895426]\n",
      " [0.18994718 0.41057796 0.19125539 0.15349789 0.30310714 0.57596956\n",
      "  0.63872117 0.10436716 0.02554712 0.30035958]\n",
      " [0.6568904  0.55885598 0.61224974 0.28093082 0.97681581 0.61070196\n",
      "  0.4922011  0.91894838 0.66832027 0.23115068]\n",
      " [0.85033636 0.9356268  0.7090211  0.90656622 0.80175099 0.29218834\n",
      "  0.40624231 0.42867801 0.20244824 0.37873386]\n",
      " [0.70549464 0.39138825 0.87759138 0.21567636 0.47621775 0.72720607\n",
      "  0.2389276  0.42564496 0.02508767 0.43688081]\n",
      " [0.26313545 0.21287084 0.97879124 0.74152575 0.07433904 0.87804079\n",
      "  0.92286854 0.9034167  0.85133643 0.65325827]\n",
      " [0.14062631 0.82832225 0.53900664 0.96788607 0.23221081 0.03429837\n",
      "  0.33916194 0.94560946 0.81155388 0.43177739]\n",
      " [0.80760813 0.91860401 0.00954068 0.79356195 0.93432169 0.69881908\n",
      "  0.55109893 0.14770051 0.5372478  0.93186218]]\n",
      "minimun value is 0.009540680940977264\n",
      "maximum value is 0.9861874129082099\n"
     ]
    }
   ],
   "source": [
    "matrix = np.random.random((10,10))\n",
    "print(matrix)\n",
    "print(\"minimun value is\",matrix.min())\n",
    "print(\"maximum value is\",matrix.max())"
   ]
  },
  {
   "cell_type": "markdown",
   "id": "a3da7d65",
   "metadata": {},
   "source": [
    "# 6.Create a random vector of size 30 and find the mean value."
   ]
  },
  {
   "cell_type": "code",
   "execution_count": 7,
   "id": "a8720c00",
   "metadata": {},
   "outputs": [
    {
     "data": {
      "text/plain": [
       "array([0.79468328, 0.25072801, 0.06648271, 0.35404489, 0.98943375,\n",
       "       0.4124299 , 0.49144526, 0.20186876, 0.89907531, 0.33356667,\n",
       "       0.48559966, 0.51693775, 0.08743793, 0.62795366, 0.7869698 ,\n",
       "       0.34960081, 0.99835932, 0.11843268, 0.98734754, 0.01769116,\n",
       "       0.0316477 , 0.03257823, 0.96515719, 0.15409168, 0.66740219,\n",
       "       0.25153341, 0.07506555, 0.61090083, 0.72897423, 0.51754181])"
      ]
     },
     "execution_count": 7,
     "metadata": {},
     "output_type": "execute_result"
    }
   ],
   "source": [
    "random_vector =np.random.random(30)\n",
    "random_vector"
   ]
  },
  {
   "cell_type": "code",
   "execution_count": 8,
   "id": "13662c4f",
   "metadata": {},
   "outputs": [
    {
     "data": {
      "text/plain": [
       "0.4601660557671647"
      ]
     },
     "execution_count": 8,
     "metadata": {},
     "output_type": "execute_result"
    }
   ],
   "source": [
    "random_vector.mean()"
   ]
  },
  {
   "cell_type": "code",
   "execution_count": null,
   "id": "dc0ede22",
   "metadata": {},
   "outputs": [],
   "source": []
  },
  {
   "cell_type": "code",
   "execution_count": null,
   "id": "d7267b4b",
   "metadata": {},
   "outputs": [],
   "source": []
  }
 ],
 "metadata": {
  "kernelspec": {
   "display_name": "Python 3 (ipykernel)",
   "language": "python",
   "name": "python3"
  },
  "language_info": {
   "codemirror_mode": {
    "name": "ipython",
    "version": 3
   },
   "file_extension": ".py",
   "mimetype": "text/x-python",
   "name": "python",
   "nbconvert_exporter": "python",
   "pygments_lexer": "ipython3",
   "version": "3.10.0"
  }
 },
 "nbformat": 4,
 "nbformat_minor": 5
}
